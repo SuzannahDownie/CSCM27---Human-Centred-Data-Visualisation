{
 "cells": [
  {
   "cell_type": "code",
   "execution_count": 1,
   "metadata": {},
   "outputs": [],
   "source": [
    "import pandas as pd\n",
    "import altair as alt\n",
    "from vega_datasets import data\n",
    "# alt.renderers.enable('notebook')"
   ]
  },
  {
   "cell_type": "code",
   "execution_count": 2,
   "metadata": {},
   "outputs": [],
   "source": [
    "data = pd.read_csv(\"day.csv\")"
   ]
  },
  {
   "cell_type": "code",
   "execution_count": 3,
   "metadata": {},
   "outputs": [],
   "source": [
    "# Prepare the dataframes\n",
    "\n",
    "data = data[[\"dteday\", \"season\", \"weekday\", \"weathersit\", \"temp\", \"hum\", \"windspeed\", \"casual\", \"registered\"]]\n",
    "\n",
    "data = pd.melt(data, id_vars = [\"dteday\", \"season\", \"weekday\", \"weathersit\", \"temp\", \"hum\", \"windspeed\"], \n",
    "               value_vars = [\"casual\", \"registered\"], var_name = \"user_type\", value_name = \"count\")\n",
    "\n",
    "labels = [\"Very Cold\", \"Cold\", \"Temperate\", \"Warm\", \"Very Warm\"]\n",
    "\n",
    "data[\"temp_bin\"] = pd.qcut(data[\"temp\"], q = 5, labels = labels)\n",
    "\n",
    "very_cold = data[data.temp_bin == \"Very Cold\"]\n",
    "cold = data[data.temp_bin == \"Cold\"]\n",
    "temperate = data[data.temp_bin == \"Temperate\"]\n",
    "warm = data[data.temp_bin == \"Warm\"]\n",
    "very_warm = data[data.temp_bin == \"Very Warm\"]"
   ]
  },
  {
   "cell_type": "code",
   "execution_count": 4,
   "metadata": {},
   "outputs": [],
   "source": [
    "# Create the base chart and selection legend tool\n",
    "\n",
    "selection = alt.selection_multi(fields=[\"temp_bin\"], bind = \"legend\")\n",
    "\n",
    "base = alt.Chart(data).mark_area().encode(\n",
    "    alt.X(\"dteday:T\", \n",
    "          axis = alt.Axis(title = \"Month and Year\",format = (\"%b %Y\"), labelAngle = -90)),\n",
    "    alt.Y(\"sum(count):Q\", axis = alt.Axis(title = \"Number of Bike Share Users\")),\n",
    "    alt.Color(\"temp_bin:O\", scale = alt.Scale(range = [\"#2c7bb6\", \"#abd9e9\", \"#ffffbf\", \"#fdae61\", \"#d7191c\"]), \n",
    "              sort = [\"Very Cold\", \"Cold\", \"Temperate\", \"Warm\", \"Very Warm\"], \n",
    "              legend = alt.Legend(title = \"Temperature\")),\n",
    "    opacity = alt.condition(selection, alt.value(1), alt.value(0.2)),\n",
    "    tooltip = [alt.Tooltip(\"mean(count)\", title = \"No. of Users\"),\n",
    "              alt.Tooltip(\"dteday:T\", title = \"Date\")]\n",
    "\n",
    ").properties(\n",
    "    width = 750,\n",
    "    height = 350,\n",
    "    title = \"The Influence of Temperature on Bike Share Usage\"\n",
    "\n",
    ").add_selection(\n",
    "    selection\n",
    ").interactive()\n"
   ]
  },
  {
   "cell_type": "code",
   "execution_count": 8,
   "metadata": {},
   "outputs": [],
   "source": [
    "# Create the bar chart and link to the selection filter\n",
    "\n",
    "bar_users = alt.Chart(data, title = \"Average Daily Users by User Type\").mark_bar().encode(\n",
    "    alt.X(\"average(count):Q\", axis = alt.Axis(title = \"Users\")),\n",
    "    alt.Y(\"user_type:N\", axis = alt.Axis(title = \"User Type\", labelAngle = 1)),\n",
    "    alt.Color(\"temp_bin:O\", scale = alt.Scale(range = [\"#2c7bb6\", \"#abd9e9\", \"#ffffbf\", \"#fdae61\", \"#d7191c\"]), \n",
    "              sort = [\"Very Cold\", \"Cold\", \"Temperate\", \"Warm\", \"Very Warm\"]),\n",
    "    tooltip = alt.Tooltip(\"average(count):Q\", title = \"No. of Users\")\n",
    "            \n",
    ").properties(\n",
    "    width = 750,\n",
    "    height = 150).transform_filter(\n",
    "    selection\n",
    ").interactive()\n",
    "\n"
   ]
  },
  {
   "cell_type": "code",
   "execution_count": 6,
   "metadata": {},
   "outputs": [],
   "source": [
    "# Scatter plot creation\n",
    "\n",
    "points_v_cold = alt.Chart(very_cold).mark_circle().encode(\n",
    "    x = alt.X(\"temp:Q\", axis = alt.Axis(title = \"Temperature\")),\n",
    "    y = alt.Y(\"count:Q\", axis = alt.Axis(title = \"Count\")),\n",
    "    \n",
    ").properties(\n",
    "    width = 350,\n",
    "    height = 350,\n",
    "    title = \"Very Cold\")\n",
    "\n",
    "\n",
    "points_cold = alt.Chart(cold).mark_circle().encode(\n",
    "    x = alt.X(\"temp:Q\", scale = alt.Scale(zero = False), axis = alt.Axis(title = \"Temperature\")),\n",
    "    y = alt.Y(\"count:Q\", axis = alt.Axis(title = \"Count\")),\n",
    "\n",
    ").properties(\n",
    "    width = 350,\n",
    "    height = 350,\n",
    "    title = \"Cold\")\n",
    "\n",
    "\n",
    "points_temp = alt.Chart(temperate).mark_circle().encode(\n",
    "    x = alt.X(\"temp:Q\", scale = alt.Scale(zero = False), axis = alt.Axis(title = \"Temperature\")),\n",
    "    y = alt.Y(\"count:Q\", axis = alt.Axis(title = \"Count\")),\n",
    "    \n",
    ").properties(\n",
    "    width = 350,\n",
    "    height = 350,\n",
    "    title = \"Temperate\")\n",
    "\n",
    "\n",
    "points_warm = alt.Chart(warm).mark_circle().encode(\n",
    "    x = alt.X(\"temp:Q\", scale = alt.Scale(zero = False), axis = alt.Axis(title = \"Temperature\")),\n",
    "    y = alt.Y(\"count:Q\", axis = alt.Axis(title = \"Count\")),\n",
    "    \n",
    ").properties(\n",
    "    width = 350,\n",
    "    height = 350,\n",
    "    title = \"Warm\"\n",
    ")\n",
    "\n",
    "\n",
    "points_v_warm = alt.Chart(very_warm).mark_circle().encode(\n",
    "    x = alt.X(\"temp:Q\", scale = alt.Scale(zero = False), axis = alt.Axis(title = \"Temperature\")),\n",
    "    y = alt.Y(\"count:Q\", axis = alt.Axis(title = \"Count\")),\n",
    "    \n",
    ").properties(\n",
    "    width = 350,\n",
    "    height = 350,\n",
    "    title = \"Very Warm\"\n",
    ")\n",
    "\n",
    "# Format the SPLOMS\n",
    "\n",
    "first_row = alt.hconcat((points_v_cold + points_v_cold.transform_regression(\"temp\", \"count\").mark_line(color = \"black\")), \n",
    "                        (points_cold + points_cold.transform_regression(\"temp\", \"count\").mark_line(color = \"black\")))\n",
    "    \n",
    "second_row = alt.hconcat((points_temp + points_temp.transform_regression(\"temp\", \"count\").mark_line(color = \"black\")),\n",
    "                          (points_warm + points_warm.transform_regression(\"temp\", \"count\").mark_line(color = \"black\")))\n",
    "                        \n",
    "final_row =  alt.hconcat(points_v_warm + points_v_warm.transform_regression(\"temp\", \"count\").mark_line(color = \"black\"))\n",
    "\n"
   ]
  },
  {
   "cell_type": "code",
   "execution_count": 1,
   "metadata": {},
   "outputs": [
    {
     "ename": "NameError",
     "evalue": "name 'base' is not defined",
     "output_type": "error",
     "traceback": [
      "\u001b[0;31m---------------------------------------------------------------------------\u001b[0m",
      "\u001b[0;31mNameError\u001b[0m                                 Traceback (most recent call last)",
      "\u001b[0;32m<ipython-input-1-3f34a52d2fcd>\u001b[0m in \u001b[0;36m<module>\u001b[0;34m\u001b[0m\n\u001b[0;32m----> 1\u001b[0;31m final = (base & bar_users & first_row & second_row & final_row).configure(background = \"darkgray\"\n\u001b[0m\u001b[1;32m      2\u001b[0m \u001b[0;34m)\u001b[0m\u001b[0;34m.\u001b[0m\u001b[0mconfigure_axis\u001b[0m\u001b[0;34m(\u001b[0m\u001b[0;34m\u001b[0m\u001b[0;34m\u001b[0m\u001b[0m\n\u001b[1;32m      3\u001b[0m     \u001b[0mgrid\u001b[0m \u001b[0;34m=\u001b[0m \u001b[0;32mFalse\u001b[0m\u001b[0;34m\u001b[0m\u001b[0;34m\u001b[0m\u001b[0m\n\u001b[1;32m      4\u001b[0m \u001b[0;34m)\u001b[0m\u001b[0;34m.\u001b[0m\u001b[0mconfigure_view\u001b[0m\u001b[0;34m(\u001b[0m\u001b[0;34m\u001b[0m\u001b[0;34m\u001b[0m\u001b[0m\n\u001b[1;32m      5\u001b[0m     \u001b[0mstrokeWidth\u001b[0m\u001b[0;34m=\u001b[0m\u001b[0;36m0\u001b[0m\u001b[0;34m\u001b[0m\u001b[0;34m\u001b[0m\u001b[0m\n",
      "\u001b[0;31mNameError\u001b[0m: name 'base' is not defined"
     ]
    }
   ],
   "source": [
    "final = (base & bar_users & first_row & second_row & final_row).configure(background = \"darkgray\"\n",
    ").configure_axis(\n",
    "    grid = False\n",
    ").configure_view(\n",
    "    strokeWidth=0\n",
    ")"
   ]
  },
  {
   "cell_type": "code",
   "execution_count": null,
   "metadata": {},
   "outputs": [],
   "source": []
  }
 ],
 "metadata": {
  "kernelspec": {
   "display_name": "Python 3",
   "language": "python",
   "name": "python3"
  },
  "language_info": {
   "codemirror_mode": {
    "name": "ipython",
    "version": 3
   },
   "file_extension": ".py",
   "mimetype": "text/x-python",
   "name": "python",
   "nbconvert_exporter": "python",
   "pygments_lexer": "ipython3",
   "version": "3.7.7"
  }
 },
 "nbformat": 4,
 "nbformat_minor": 4
}
